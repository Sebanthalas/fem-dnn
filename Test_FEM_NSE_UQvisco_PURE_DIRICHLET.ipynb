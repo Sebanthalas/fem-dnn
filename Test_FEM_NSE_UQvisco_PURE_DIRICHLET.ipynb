{
  "nbformat": 4,
  "nbformat_minor": 0,
  "metadata": {
    "colab": {
      "provenance": [],
      "authorship_tag": "ABX9TyNsu3zYU5yTeSfm0fClKwO2",
      "include_colab_link": true
    },
    "kernelspec": {
      "name": "python3",
      "display_name": "Python 3"
    },
    "language_info": {
      "name": "python"
    }
  },
  "cells": [
    {
      "cell_type": "markdown",
      "metadata": {
        "id": "view-in-github",
        "colab_type": "text"
      },
      "source": [
        "<a href=\"https://colab.research.google.com/github/Sebanthalas/fem-dnn/blob/main/Test_FEM_NSE_UQvisco_PURE_DIRICHLET.ipynb\" target=\"_parent\"><img src=\"https://colab.research.google.com/assets/colab-badge.svg\" alt=\"Open In Colab\"/></a>"
      ]
    },
    {
      "cell_type": "code",
      "execution_count": 1,
      "metadata": {
        "colab": {
          "base_uri": "https://localhost:8080/"
        },
        "id": "YVvgVU39hiqg",
        "outputId": "7d5216e8-fad2-4f51-e30b-ffaaef3499c2"
      },
      "outputs": [
        {
          "output_type": "stream",
          "name": "stdout",
          "text": [
            "Mounted at /content/drive\n"
          ]
        }
      ],
      "source": [
        "from google.colab import drive\n",
        "drive.mount('/content/drive')"
      ]
    },
    {
      "cell_type": "code",
      "source": [
        "try:\n",
        "    import dolfin\n",
        "except ImportError:\n",
        "    !wget \"https://fem-on-colab.github.io/releases/fenics-install.sh\" -O \"/tmp/fenics-install.sh\" && bash \"/tmp/fenics-install.sh\"\n",
        "    import dolfin\n",
        "%cd drive/MyDrive/project_dnn\n",
        "import platform, sys\n",
        "python_version=platform.python_version()\n",
        "from distutils.version import LooseVersion, StrictVersion\n",
        "import matplotlib.pyplot as plt;\n",
        "from IPython.display import clear_output, display; import time; import dolfin.common.plotting as fenicsplot \n",
        "import time\n",
        "import os, sys, shutil\n",
        "from google.colab import files\n",
        "#!python -m pip install Tasmanian --user\n",
        "!pip install hdf5storage\n"
      ],
      "metadata": {
        "colab": {
          "base_uri": "https://localhost:8080/"
        },
        "id": "-ijUbvL0mMMR",
        "outputId": "979a0466-31c0-4edc-9870-38e85efa6d88"
      },
      "execution_count": 106,
      "outputs": [
        {
          "output_type": "stream",
          "name": "stdout",
          "text": [
            "[Errno 2] No such file or directory: 'drive/MyDrive/project_dnn'\n",
            "/content/drive/MyDrive/project_dnn\n",
            "Looking in indexes: https://pypi.org/simple, https://us-python.pkg.dev/colab-wheels/public/simple/\n",
            "Requirement already satisfied: hdf5storage in /usr/local/lib/python3.8/dist-packages (0.1.19)\n",
            "Requirement already satisfied: numpy in /usr/local/lib/python3.8/dist-packages (from hdf5storage) (1.21.6)\n",
            "Requirement already satisfied: h5py>=2.1 in /usr/local/lib/python3.8/dist-packages (from hdf5storage) (3.7.0)\n",
            "Requirement already satisfied: mpi4py>=3.0.2 in /usr/local/lib/python3.8/dist-packages (from h5py>=2.1->hdf5storage) (4.0.0.dev0)\n"
          ]
        }
      ]
    },
    {
      "cell_type": "code",
      "source": [
        "\n",
        "\n",
        "'''\n",
        "Mixed scheme of the Navier--Stokes-- equations\n",
        "The domain is unit square with  Diirichlet BC\n",
        "\n",
        " \n",
        "#######################################\n",
        "strong primal form: \n",
        "\n",
        "  *div(mu*eps(u)) + grad(u)*u + grad(p) = f  in Omega\n",
        "                                           div(u) = 0  in Omega \n",
        "\n",
        "Pure Dirichlet conditions for u \n",
        "                                                u = u_D on Gamma\n",
        "\n",
        "Lagrange multiplier to fix the average of p\n",
        "                                           int(p) = 0\n",
        "\n",
        "######################################\n",
        "\n",
        "\n",
        "######################################\n",
        "\n",
        "parametric  viscoscity: mu(x,y)\n",
        "'''\n",
        "%cd drive/MyDrive/project_dnn\n",
        "#import tensorflow as tf\n",
        "#from tensorflow import keras\n",
        "#from tensorflow.keras import layers, regularizers\n",
        "# Other libraries\n",
        "import scipy.io as sio\n",
        "from fenics import *\n",
        "#import Tasmanian\n",
        "import numpy as np\n",
        "import time\n",
        "import matplotlib.pyplot as plt\n",
        "from numpy import linalg as la\n",
        "import time, os, argparse, io, shutil, sys, math, socket\n",
        "import scipy.io as sio\n",
        "from dolfin import *\n",
        "import sympy2fenics as sf\n",
        "import random\n",
        "import os\n",
        "!pwd"
      ],
      "metadata": {
        "colab": {
          "base_uri": "https://localhost:8080/"
        },
        "id": "pVgHFmyzmQGo",
        "outputId": "c42eb0d1-4ade-4b05-859f-2a8ade066c20"
      },
      "execution_count": 107,
      "outputs": [
        {
          "output_type": "stream",
          "name": "stdout",
          "text": [
            "[Errno 2] No such file or directory: 'drive/MyDrive/project_dnn'\n",
            "/content/drive/MyDrive/project_dnn\n",
            "/content/drive/MyDrive/project_dnn\n"
          ]
        }
      ]
    },
    {
      "cell_type": "code",
      "source": [
        "\n",
        "# ==============================================================\n",
        "# The sympy2fenics.py file is needed to compute in a simple way:\n",
        "# - derivatives\n",
        "# - tensor products\n",
        "# ==============================================================\n",
        "# Define essential boundary\n",
        "def boundary(x):\n",
        "    return   x[0] > 1.0 - DOLFIN_EPS\n",
        "def my_LK_fun(x,z,d):\n",
        "  pi = 3.14159265359\n",
        "  pi_s = pi\n",
        "  L_c = 1.0/8.0\n",
        "  L_p = np.max([1.0, 2.0*L_c])\n",
        "  L_c_s = L_c\n",
        "  L_p_s = L_p\n",
        "  L = L_c/L_p\n",
        "  L_s = L\n",
        "  string = -1.2+sqrt(sqrt( pi_s )*  L_s /2.0)* z[0]\n",
        "  for j in range(2, input_dim):\n",
        "    term = z[j-1]*sqrt(sqrt(pi_s)*L_s )*exp(-pow(np.floor(j/2.0)* pi*L_s,2.0)/8.0)\n",
        "    if j % 2 == 0:\n",
        "      term = term*sin(np.floor(j/2.0)* pi_s*x/L_p_s)\n",
        "    else:\n",
        "      term = term*cos(np.floor(j/2.0)* pi_s*x/L_p_s)\n",
        "    string = string + term\n",
        "  string = np.exp(  string )\n",
        "  return(string) \n",
        "def str2exp(s):\n",
        "    return sf.sympy2exp(sf.str2sympy(s))\n",
        "def coeff_extr(j):\n",
        "    #This exctracts the coefficient of the different spaces\n",
        "    # j is the index of the space:\n",
        "    # j=o the vector space for uh\n",
        "    # j=1 the space for  component of te11\n",
        "    # j=2 the space for  component of te12\n",
        "    # j=3 the space for  component of te21\n",
        "    # j=4 the first  row of sigma\n",
        "    # j=5 the second row of sigma\n",
        "    # j=6 the lagrange multiplier (not uch important)\n",
        "    # For this to work the nature of the space has to be the same\n",
        "    W  = Function(Hh)\n",
        "    #Getting the exact DOF location\n",
        "    DoF_map   = Hh.sub(j).dofmap()\n",
        "    DoF_index = DoF_map.dofs()\n",
        "    AUX1 = W.vector().get_local()    # empty DoF vector \n",
        "    AUX2 = Usol.vector().get_local() # All DoF\n",
        "    AUX1[DoF_index] = AUX2[DoF_index]                # corresponding assignation\n",
        "    W.vector().set_local(AUX1)       # corresponding assignation to empy vector\n",
        "    coeff_vector = np.array(W.vector().get_local()) \n",
        "    return coeff_vector\n",
        "# ==============================================================\n",
        "# Boundary conditions\n",
        "# ============================================================== MyExpressionoutlet\n",
        "#class MyExpression(UserExpression):\n",
        "#  def eval(self, value, x):\n",
        "#    if x[1] >= 1- DOLFIN_EPS:#-my_LK_fun(x[0],z,d):\n",
        "#      value[0] = 0.0\n",
        "#    elif x[1] <= 0.0+ DOLFIN_EPS:#+my_LK_fun(x[0],z,d):\n",
        "#      value[0] = 0.0\n",
        "#    elif x[0] > 1- DOLFIN_EPS:\n",
        "#      value[0] = ( 1.0 - ( abs(abs(x[1]) - 0.5 ))/(0.5)  ) \n",
        "#    elif x[0] < 0.0+ DOLFIN_EPS:\n",
        "#      value[0] = ( 1.0 - ( abs(abs(x[1]) - 0.5 ))/(0.5)  ) \n",
        "#    elif ( (x[0] > 0.0625 - DOLFIN_EPS) and (x[0] < 0.1875 +DOLFIN_EPS) and (x[1] > 0.4375 - DOLFIN_EPS) and (x[1] < 0.5625 + DOLFIN_EPS) ):\n",
        "#      value[0] = 0.0   \n",
        "#    else:\n",
        "#      value[0] = 0.0\n",
        "#  def value_shape(self):\n",
        "#    return (1,)\n",
        "\n",
        "# ==============================================================\n",
        "# The following gives the informations about the solver. \n",
        "# ==============================================================\n",
        "parameters[\"form_compiler\"][\"representation\"] = \"uflacs\"\n",
        "parameters[\"form_compiler\"][\"cpp_optimize\"] = True\n",
        "parameters[\"form_compiler\"][\"quadrature_degree\"] = 4\n",
        "list_linear_solver_methods()\n",
        "# ==============================================================\n",
        "# Define the parameters for the PDE and SG points\n",
        "# ==============================================================\n",
        "# All parameters\n",
        "default_parameters = {\n",
        "  'trial_': 1,\n",
        "\t'num_train_samples':1, #20\n",
        "\t'num_test_samples': 0, #50\n",
        "  'mesh_op': 3, # choose mesh refiniment, 1,2,3,4. Default=2\n",
        "\t'FE_degree': 1, # Use P1 for 2D or above\n",
        "  'example' : 'other',\n",
        "  'input_dim': 4\n",
        "}\n",
        "params = default_parameters\n",
        "exact_FE_soln = 0\n",
        "using_SG_points =0\n",
        "#random samples\n",
        "_trial = params['trial_']\n",
        "np_seed = _trial\n",
        "np.random.seed(np_seed)\n",
        " \n",
        "#================================================================\n",
        "# Choose the mesh: there is 4  barycentric refininements. \n",
        "#                  - use plot(mesh) to see them.\n",
        "#================================================================\n",
        "nk = params['mesh_op']\n",
        "example = params['example']\n",
        "input_dim = params['input_dim']\n",
        "meshname=\"meshes/unit_square/obstac%03g.xml\"%nk\n",
        "mesh = Mesh(meshname)\n",
        "bdry = MeshFunction(\"size_t\", mesh, \"meshes/unit_square/subdomains.xml\")\n",
        "wall = 0; inlet=1; outlet=2;\n",
        "nn   = FacetNormal(mesh)\n",
        "tan  = as_vector((-nn[1],nn[0])) # DIMMMMMM\n",
        "    \n",
        "ds = Measure(\"ds\", subdomain_data = bdry)\n",
        "dx = Measure(\"dx\", domain=mesh)\n",
        "\n",
        "uinlet = Expression(('( 1.0 - ( abs(abs(x[1]) - 0.5 ))/(0.5)  ) ','0'), degree = 2)\n",
        "#================================================================\n",
        "# only for errors\n",
        "#================================================================\n",
        "hvec = mesh.hmax(); # pick the h_max from the mesh\n",
        "nvec = 0;           # Same number as K\n",
        "#================================================================\n",
        "# The following for is not necessary. I use it when I want to obtain results\n",
        "# for different values of m\n",
        "#================================================================\n",
        "for m in [1]:\n",
        "    All_Train_coeff   = []\n",
        "    All_Train_coeff_p = []\n",
        "    All_Test_coeff    = []\n",
        "    All_Test_coeff_p  = []\n",
        "    _L4unorm= []\n",
        "    _L2tnorm= []\n",
        "    _L2pnorm= []\n",
        "    _L2snorm= []\n",
        "    input_dim = params['input_dim']\n",
        "    Nu = m\n",
        "    d = input_dim       # parametric dimension\n",
        "    y_in_train = 2.0*np.random.rand(d,m) - 1.0  # training points    \n",
        "    Re = Constant(150)\n",
        "    g     = Constant((0.,0.))\n",
        "    f     = Constant((0.0,0.))\n",
        "    cero  = Constant((0.,0.))\n",
        "    upper = Constant((10.,0.))\n",
        "    Id    = Constant(((1.,0.),(0.,1.)))\n",
        "    #y_in_train = (2.0*np.random.rand(d,m) - 1.0)\n",
        "    # Generate the training data\n",
        "    for i in range(m):\n",
        "      coeff_each_m = []\n",
        "      coeff_each_m_p = []\n",
        "      # time\n",
        "      t_start = time.time()\n",
        "      # Paramters\n",
        "      z = y_in_train[:,i]\n",
        "      # ******* Exact solutions for error analysis ****** \n",
        "      #================================================================\n",
        "      # The viscosity of the fluid depends on the parameters\n",
        "      #================================================================\n",
        "      \n",
        "      if example == 'logKL_expansion':\n",
        "         pi = 3.14159265359\n",
        "         pi_s = str(pi)\n",
        "         L_c = 1.0/8.0\n",
        "         L_p = np.max([1.0, 2.0*L_c])\n",
        "         L_c_s = str(L_c)\n",
        "         L_p_s = str(L_p)\n",
        "         L = L_c/L_p\n",
        "         L_s = str(L)      \n",
        "         string = '-4.5+sqrt(sqrt(' + pi_s + ')*' + L_s + '/2.0)*' + str(z[0])\n",
        "         for j in range(2, input_dim):\n",
        "           term = str(z[j-1]) + '*sqrt(sqrt(' + pi_s + ')*' + L_s + ')*exp(-pow(floor('\n",
        "           term = term + str(j) + '/2.0)*' + pi_s + '*' + L_s + ',2.0)/8.0)' \n",
        "           if j % 2 == 0:\n",
        "             term = term + '*sin(floor(' + str(j) + '/2.0)*' + pi_s + '*x/' + L_p_s + ')'\n",
        "           else:\n",
        "             term = term + '*cos(floor(' + str(j) + '/2.0)*' + pi_s + '*x/' + L_p_s + ')'\n",
        "           string = string + '+' + term\n",
        "         string = 'exp(' + string + ')'\n",
        "      else:# use a simple example where only the first two dimensions have x dependence\n",
        "        string = 1/150\n",
        "        #string = '5.0+exp(' + str(z[0]) + '+' + str(z[1]) + '+' + str(z[2]) + '+'+ str(z[3]) +' )' \n",
        "        \n",
        "      #mu = Expression(str2exp(string), degree=2, domain=mesh)\n",
        "      #mu = Constant(string)\n",
        "      mu = Constant(1/0.1)\n",
        "      #================================================================\n",
        "      # Boundary condition\n",
        "      #================================================================ \n",
        " \n",
        "    #================================================================\n",
        "    #  *********** Finite Element spaces ************* #\n",
        "    #================================================================\n",
        "      deg= params['FE_degree']\n",
        "      Pkv = VectorElement('DG', mesh.ufl_cell(), deg)\n",
        "      Pk  = FiniteElement('DG', mesh.ufl_cell(), deg+1)\n",
        "      RTv = FiniteElement('BDM', mesh.ufl_cell(), deg+1)\n",
        "      R0  = FiniteElement('R', mesh.ufl_cell(), 0)\n",
        "      Hh  = FunctionSpace(mesh, MixedElement([Pkv,Pk,Pk,Pk,RTv,RTv,R0]))\n",
        "      Ph  = FunctionSpace(mesh,'CG',1)\n",
        "      nvec = Hh.dim()\n",
        "     #================================================================\n",
        "     # *********** Trial and test functions ********** #\n",
        "     #================================================================\n",
        "      Utrial = TrialFunction(Hh)\n",
        "      Usol   = Function(Hh)\n",
        "      W_trainsol   = Function(Hh)\n",
        "      u, t11, t12, t21, Rsig1, Rsig2, xi= split(Usol)\n",
        "      v, s11, s12, s21, Rtau1, Rtau2, ze= TestFunctions(Hh)\n",
        "      t = as_tensor(((t11,t12),(t21,-t11)))\n",
        "      s = as_tensor(((s11,s12),(s21,-s11))) \n",
        "      sigma = as_tensor((Rsig1,Rsig2))\n",
        "      tau   = as_tensor((Rtau1,Rtau2))\n",
        "      # ********** Boundary conditions ******** #\n",
        "      # All Dirichlet BCs become natural in this mixed form \n",
        "      # *************** Variational forms ***************** #\n",
        "      #================================================================\n",
        "      # flow equations\n",
        "      #================================================================   \n",
        "      # Weak formulation  \n",
        "      BigA = - dot(div(sigma),v)*dx + 0.5*dot(t*u,v)*dx\n",
        "      BigB = 2.*mu*inner(sym(t),s)*dx - 0.5*inner(dev(outer(u,u)),s)*dx - inner(dev(sigma),s)*dx \n",
        "      BigC = inner(tau,t)*dx  + dot(u,div(tau))*dx\n",
        "      # right part and boundary equation\n",
        "      F  = dot(g+f,v)*dx\n",
        "      G  = dot(tau*nn,uinlet)*ds(inlet) +dot(tau*nn,uinlet)*ds(outlet)\n",
        "      # zero average of trace\n",
        "      Z  = (tr(2*sigma+outer(u,u))) * ze * dx + tr(tau) * xi * dx\n",
        "      #Stiffness matrix\n",
        "      FF = BigA + BigB + BigC  - F - G  + Z   \n",
        "    \t# solver\t\t\t\t\t\t  \n",
        "      Tang = derivative(FF, Usol, Utrial)\n",
        "      solve(FF == 0, Usol, J=Tang)\n",
        "      #Solutions\n",
        "      uh, t11h, t12h, t21h, Rsigh1, Rsigh2, xih = Usol.split()\n",
        "      th=as_tensor(((t11h,t12h),(t21h,-t11h)))\t\t\t\t\t    \n",
        "      sigmah = as_tensor((Rsigh1,Rsigh2))        \n",
        "      # dimension-dependent (not separating H_0(div) with c*I)\n",
        "      #getting coeffiecients of p\n",
        "      ph = project(-0.25*tr(2*sigmah+outer(uh,uh)),Ph)\n",
        "      coeff_each_m_p = ph.vector().get_local()\n",
        "      All_Train_coeff_p.append(coeff_each_m_p)\n",
        "      #\n",
        "      num_subspaces = W_trainsol.num_sub_spaces()-1\n",
        "      for j in range(num_subspaces):\n",
        "        coef_one_trial = coeff_extr(j)\n",
        "        coeff_each_m.append(coef_one_trial)\n",
        "      All_Train_coeff.append(coeff_each_m)\n",
        "      print('====================================================================')\n",
        "      print('i = ', i, ' ', y_in_train[:,i])\n",
        "      print('====================================================================')\n",
        "      L4unorm  = sqrt(sqrt(assemble( ((uh)**2)**2*dx)))\n",
        "      L2tnorm  = sqrt(assemble( (th)**2*dx ))\n",
        "      L2pnorm  = sqrt(assemble((ph)**2*dx) ) \n",
        "      L2snorm  = sqrt(assemble((sigmah)**2*dx) ) \n",
        "      print(L4unorm,L2tnorm,L2pnorm)\n",
        "      _L4unorm.append(L4unorm)\n",
        "      _L2tnorm.append(L2tnorm)\n",
        "      _L2pnorm.append(L2pnorm)\n",
        "      _L2snorm.append(L2snorm)\n",
        "\n",
        "     \n",
        "      if i == 0:\n",
        "        K = len(All_Train_coeff[0][0])\n",
        "        print('FE degrees of freedom K = ',K)\n",
        "      if exact_FE_soln:\n",
        "        # Compute error in L4 and L2 norms\n",
        "        erroru_L4 = sqrt(sqrt(assemble( ((u_ex-uh)**2)**2*dx)))\n",
        "        errort_L2 = sqrt(assemble((th-t_ex)**2*dx))\n",
        "        errorp_L2 = sqrt(assemble((ph-p_ex)**2*dx)) \n",
        "        errorp_Hdiv4_3 = sqrt(assemble((sigma_ex-sigmah)**2*dx) ) +  pow(  assemble(  ( pow(  ( div(sigma_ex)-div(sigmah)  )**2,2.0/3.0 )**1*dx)  )  , 3.0/4.0 )   \n",
        "        # Compute maximum error at vertices\n",
        "        vertex_values_u_ex= u_ex.compute_vertex_values(mesh)\n",
        "        vertex_values_uh   = uh.compute_vertex_values(mesh)\n",
        "        error_max         = np.max(np.abs(vertex_values_u_ex - vertex_values_uh))\n",
        "        timer =time.time() - t_start\n",
        "        # Print errors\n",
        "        print('i = ', i, ' ', y_in_train[:,i])\n",
        "        print('====================================================================')\n",
        "        print(' h    &   e(u)     &  e(t)   &    e(p)   &    e(si)   &   e_m(u) &   time ')\n",
        "        print('====================================================================')\n",
        "        print('%5.5g     %4.4g    %4.4g    %4.4g      %4.4g       %4.4g     %4.4g  ' % (hvec, erroru_L4, errort_L2, errorp_L2, errorp_Hdiv4_3, error_max,timer ))\n",
        "        print('======================================================================')\n",
        "    print('Generated inputs of size: ', y_in_train.shape)\n",
        "    print('Generated outputs of size: ', coef_one_trial.shape[0])\n",
        " "
      ],
      "metadata": {
        "colab": {
          "base_uri": "https://localhost:8080/"
        },
        "id": "DD-k4ZFYmQQv",
        "outputId": "967e0f00-491d-48f6-ab66-9188d6a1afea"
      },
      "execution_count": 108,
      "outputs": [
        {
          "output_type": "stream",
          "name": "stdout",
          "text": [
            "====================================================================\n",
            "i =  0   [-0.16595599  0.44064899 -0.99977125 -0.39533485]\n",
            "====================================================================\n",
            "0.6773849319050294 6.529159442523303 222.02818540287615\n",
            "FE degrees of freedom K =  46735\n",
            "Generated inputs of size:  (4, 1)\n",
            "Generated outputs of size:  46735\n"
          ]
        }
      ]
    },
    {
      "cell_type": "code",
      "source": [
        "====================================================================\n",
        "i =  0   [-0.16595599  0.44064899 -0.99977125 -0.39533485]\n",
        "====================================================================\n",
        "0.6773849319050287 6.529159442523299 222.028185402876\n",
        "FE degrees of freedom K =  46735\n",
        "Generated inputs of size:  (4, 1)\n",
        "Generated outputs of size:  46735\n",
        "Generating the testing data\n",
        "Generated inputs of size:  (4, 0)\n",
        "Generated outputs of size:  (46735,)"
      ],
      "metadata": {
        "id": "39mbA4KpcHYh"
      },
      "execution_count": null,
      "outputs": []
    },
    {
      "cell_type": "code",
      "source": [
        "plot(uh)"
      ],
      "metadata": {
        "colab": {
          "base_uri": "https://localhost:8080/",
          "height": 283
        },
        "id": "EN1gETT4q_oK",
        "outputId": "a1b00ea6-5de3-4e20-cc9b-f957011f14db"
      },
      "execution_count": 109,
      "outputs": [
        {
          "output_type": "execute_result",
          "data": {
            "text/plain": [
              "<matplotlib.quiver.Quiver at 0x7f5750801790>"
            ]
          },
          "metadata": {},
          "execution_count": 109
        },
        {
          "output_type": "display_data",
          "data": {
            "text/plain": [
              "<Figure size 432x288 with 1 Axes>"
            ],
            "image/png": "[encoded data removed]"
          },
          "metadata": {
            "needs_background": "light"
          }
        }
      ]
    },
    {
      "cell_type": "code",
      "source": [
        "plot(ph)"
      ],
      "metadata": {
        "colab": {
          "base_uri": "https://localhost:8080/",
          "height": 287
        },
        "id": "PUe8rjCDrkTh",
        "outputId": "2794f0c1-69cd-4322-a445-25088f0ea2b3"
      },
      "execution_count": 76,
      "outputs": [
        {
          "output_type": "execute_result",
          "data": {
            "text/plain": [
              "<matplotlib.tri.tricontour.TriContourSet at 0x7f5760680130>"
            ]
          },
          "metadata": {},
          "execution_count": 76
        },
        {
          "output_type": "display_data",
          "data": {
            "text/plain": [
              "<Figure size 432x288 with 1 Axes>"
            ],
            "image/png": "[encoded data removed]"
          },
          "metadata": {
            "needs_background": "light"
          }
        }
      ]
    },
    {
      "cell_type": "code",
      "source": [
        "muh =project(mu,Ph) \n",
        "plot(muh)"
      ],
      "metadata": {
        "colab": {
          "base_uri": "https://localhost:8080/",
          "height": 286
        },
        "id": "5LtiVyRJ6Bve",
        "outputId": "b4fcc6d9-14ad-489e-dd69-b80af53c4a8e"
      },
      "execution_count": null,
      "outputs": [
        {
          "output_type": "execute_result",
          "data": {
            "text/plain": [
              "<matplotlib.tri.tricontour.TriContourSet at 0x7f11d9b43cd0>"
            ]
          },
          "metadata": {},
          "execution_count": 19
        },
        {
          "output_type": "display_data",
          "data": {
            "text/plain": [
              "<Figure size 432x288 with 1 Axes>"
            ],
            "image/png": "[encoded data removed]"
          },
          "metadata": {
            "needs_background": "light"
          }
        }
      ]
    },
    {
      "cell_type": "code",
      "source": [
        "muh =project(mu,Ph) \n",
        "plot(muh)\n",
        "norm(muh)"
      ],
      "metadata": {
        "colab": {
          "base_uri": "https://localhost:8080/",
          "height": 287
        },
        "id": "2Tg6Rts9DVQD",
        "outputId": "978b275d-4d50-41cd-9d69-df1f795e43bd"
      },
      "execution_count": 78,
      "outputs": [
        {
          "output_type": "execute_result",
          "data": {
            "text/plain": [
              "9.921567416492216"
            ]
          },
          "metadata": {},
          "execution_count": 78
        },
        {
          "output_type": "display_data",
          "data": {
            "text/plain": [
              "<Figure size 432x288 with 1 Axes>"
            ],
            "image/png": "[encoded data removed]"
          },
          "metadata": {
            "needs_background": "light"
          }
        }
      ]
    },
    {
      "cell_type": "code",
      "source": [
        "D = mesh.topology().dim()\n",
        "mf = MeshFunction(\"size_t\", mesh, D - 1, mesh.domains())\n",
        " "
      ],
      "metadata": {
        "id": "PV5CnzRWyi4K"
      },
      "execution_count": 19,
      "outputs": []
    },
    {
      "cell_type": "code",
      "source": [],
      "metadata": {
        "id": "SgmOYsg3eeLI"
      },
      "execution_count": 32,
      "outputs": []
    },
    {
      "cell_type": "code",
      "source": [
        "# Sub domain for no-slip (mark whole boundary, inflow and outflow will overwrite)\n",
        "class Noslip(SubDomain):\n",
        "    def inside(self, x, on_boundary):\n",
        "        return on_boundary\n",
        "\n",
        "# Sub domain for inflow (right)\n",
        "class Inflow(SubDomain):\n",
        "    def inside(self, x, on_boundary):\n",
        "        return x[0] <  DOLFIN_EPS and on_boundary\n",
        "\n",
        "# Sub domain for outflow (left)\n",
        "class Outflow(SubDomain):\n",
        "    def inside(self, x, on_boundary):\n",
        "        return x[0] > 1- DOLFIN_EPS and on_boundary\n",
        "# Create mesh functions over the cell facets\n",
        "sub_domains = MeshFunction(\"size_t\", mesh, D- 1)\n",
        "sub_domains_bool = MeshFunction(\"bool\", mesh, D - 1)\n",
        "sub_domains_double = MeshFunction(\"double\", mesh, D- 1)\n",
        "# Mark all facets as sub domain 3\n",
        "sub_domains.set_all(3)\n",
        "sub_domains_bool.set_all(False)\n",
        "sub_domains_double.set_all(0.3)\n",
        "# Mark no-slip facets as sub domain 0, 0.0\n",
        "noslip = Noslip()\n",
        "noslip.mark(sub_domains, 0)\n",
        "noslip.mark(sub_domains_double, 0.0)\n",
        "# Mark inflow as sub domain 1, 01\n",
        "inflow = Inflow()\n",
        "inflow.mark(sub_domains, 1)\n",
        "inflow.mark(sub_domains_double, 0.1)\n",
        "# Mark outflow as sub domain 2, 0.2, True\n",
        "outflow = Outflow()\n",
        "outflow.mark(sub_domains, 2)\n",
        "outflow.mark(sub_domains_double, 0.2)\n",
        "outflow.mark(sub_domains_bool, True)\n",
        "# Save sub domains to file\n",
        "file = File(\"meshes/unit_square/subdomains.xml\")\n",
        "file << sub_domains"
      ],
      "metadata": {
        "id": "O0-4QzaEeqGg"
      },
      "execution_count": 67,
      "outputs": []
    },
    {
      "cell_type": "code",
      "source": [
        "ds(100)"
      ],
      "metadata": {
        "colab": {
          "base_uri": "https://localhost:8080/"
        },
        "id": "_1lK7oBGe6iD",
        "outputId": "66146c3b-8362-49ca-ff62-5296839f65d4"
      },
      "execution_count": 56,
      "outputs": [
        {
          "output_type": "execute_result",
          "data": {
            "text/plain": [
              "Measure('exterior_facet', subdomain_id=100)"
            ]
          },
          "metadata": {},
          "execution_count": 56
        }
      ]
    },
    {
      "cell_type": "code",
      "source": [
        "sub_domains.label()"
      ],
      "metadata": {
        "colab": {
          "base_uri": "https://localhost:8080/",
          "height": 35
        },
        "id": "TxXjIciHhJfh",
        "outputId": "df52ebe7-95b8-4502-cb49-25bcd59a1eda"
      },
      "execution_count": 64,
      "outputs": [
        {
          "output_type": "execute_result",
          "data": {
            "text/plain": [
              "'unnamed MeshFunction'"
            ],
            "application/vnd.google.colaboratory.intrinsic+json": {
              "type": "string"
            }
          },
          "metadata": {},
          "execution_count": 64
        }
      ]
    }
  ]
}